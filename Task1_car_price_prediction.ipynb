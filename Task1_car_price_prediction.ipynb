{
 "cells": [
  {
   "cell_type": "markdown",
   "id": "146464a3",
   "metadata": {},
   "source": [
    "### Домашнее задание : Линейная регрессия, метод градиентного спуска"
   ]
  },
  {
   "cell_type": "code",
   "execution_count": 1,
   "id": "0974f35f",
   "metadata": {},
   "outputs": [],
   "source": [
    "#импорт необходимых библиотек\n",
    "import numpy as np\n",
    "import pandas as pd\n",
    "import matplotlib.pyplot as plt\n",
    "import seaborn as sns\n",
    "from sklearn.model_selection import train_test_split\n",
    "from sklearn.preprocessing import StandardScaler\n",
    "from sklearn.linear_model import LinearRegression\n",
    "from sklearn.linear_model import SGDRegressor\n",
    "from sklearn.linear_model import Ridge\n",
    "import warnings\n",
    "warnings.filterwarnings('ignore')"
   ]
  },
  {
   "cell_type": "markdown",
   "id": "75528ce5",
   "metadata": {},
   "source": [
    "<h3>Чтение данных из набора данных:</h3>"
   ]
  },
  {
   "cell_type": "code",
   "execution_count": 2,
   "id": "8122faf4",
   "metadata": {},
   "outputs": [
    {
     "data": {
      "text/html": [
       "<div>\n",
       "<style scoped>\n",
       "    .dataframe tbody tr th:only-of-type {\n",
       "        vertical-align: middle;\n",
       "    }\n",
       "\n",
       "    .dataframe tbody tr th {\n",
       "        vertical-align: top;\n",
       "    }\n",
       "\n",
       "    .dataframe thead th {\n",
       "        text-align: right;\n",
       "    }\n",
       "</style>\n",
       "<table border=\"1\" class=\"dataframe\">\n",
       "  <thead>\n",
       "    <tr style=\"text-align: right;\">\n",
       "      <th></th>\n",
       "      <th>Car_Name</th>\n",
       "      <th>Year</th>\n",
       "      <th>Selling_Price</th>\n",
       "      <th>Present_Price</th>\n",
       "      <th>Kms_Driven</th>\n",
       "      <th>Fuel_Type</th>\n",
       "      <th>Seller_Type</th>\n",
       "      <th>Transmission</th>\n",
       "      <th>Owner</th>\n",
       "    </tr>\n",
       "  </thead>\n",
       "  <tbody>\n",
       "    <tr>\n",
       "      <th>0</th>\n",
       "      <td>ritz</td>\n",
       "      <td>2014</td>\n",
       "      <td>3.35</td>\n",
       "      <td>5.59</td>\n",
       "      <td>27000</td>\n",
       "      <td>Petrol</td>\n",
       "      <td>Dealer</td>\n",
       "      <td>Manual</td>\n",
       "      <td>0</td>\n",
       "    </tr>\n",
       "    <tr>\n",
       "      <th>1</th>\n",
       "      <td>sx4</td>\n",
       "      <td>2013</td>\n",
       "      <td>4.75</td>\n",
       "      <td>9.54</td>\n",
       "      <td>43000</td>\n",
       "      <td>Diesel</td>\n",
       "      <td>Dealer</td>\n",
       "      <td>Manual</td>\n",
       "      <td>0</td>\n",
       "    </tr>\n",
       "    <tr>\n",
       "      <th>2</th>\n",
       "      <td>ciaz</td>\n",
       "      <td>2017</td>\n",
       "      <td>7.25</td>\n",
       "      <td>9.85</td>\n",
       "      <td>6900</td>\n",
       "      <td>Petrol</td>\n",
       "      <td>Dealer</td>\n",
       "      <td>Manual</td>\n",
       "      <td>0</td>\n",
       "    </tr>\n",
       "    <tr>\n",
       "      <th>3</th>\n",
       "      <td>wagon r</td>\n",
       "      <td>2011</td>\n",
       "      <td>2.85</td>\n",
       "      <td>4.15</td>\n",
       "      <td>5200</td>\n",
       "      <td>Petrol</td>\n",
       "      <td>Dealer</td>\n",
       "      <td>Manual</td>\n",
       "      <td>0</td>\n",
       "    </tr>\n",
       "    <tr>\n",
       "      <th>4</th>\n",
       "      <td>swift</td>\n",
       "      <td>2014</td>\n",
       "      <td>4.60</td>\n",
       "      <td>6.87</td>\n",
       "      <td>42450</td>\n",
       "      <td>Diesel</td>\n",
       "      <td>Dealer</td>\n",
       "      <td>Manual</td>\n",
       "      <td>0</td>\n",
       "    </tr>\n",
       "  </tbody>\n",
       "</table>\n",
       "</div>"
      ],
      "text/plain": [
       "  Car_Name  Year  Selling_Price  Present_Price  Kms_Driven Fuel_Type  \\\n",
       "0     ritz  2014           3.35           5.59       27000    Petrol   \n",
       "1      sx4  2013           4.75           9.54       43000    Diesel   \n",
       "2     ciaz  2017           7.25           9.85        6900    Petrol   \n",
       "3  wagon r  2011           2.85           4.15        5200    Petrol   \n",
       "4    swift  2014           4.60           6.87       42450    Diesel   \n",
       "\n",
       "  Seller_Type Transmission  Owner  \n",
       "0      Dealer       Manual      0  \n",
       "1      Dealer       Manual      0  \n",
       "2      Dealer       Manual      0  \n",
       "3      Dealer       Manual      0  \n",
       "4      Dealer       Manual      0  "
      ]
     },
     "execution_count": 2,
     "metadata": {},
     "output_type": "execute_result"
    }
   ],
   "source": [
    "#Считывание данных\n",
    "dataset = pd.read_csv('car_data.csv')\n",
    "dataset.head()"
   ]
  },
  {
   "cell_type": "code",
   "execution_count": 3,
   "id": "ab4dc328",
   "metadata": {},
   "outputs": [
    {
     "data": {
      "text/plain": [
       "(301, 9)"
      ]
     },
     "execution_count": 3,
     "metadata": {},
     "output_type": "execute_result"
    }
   ],
   "source": [
    "#Отображение строки и столбца данных\n",
    "dataset.shape"
   ]
  },
  {
   "cell_type": "code",
   "execution_count": 4,
   "id": "87078442",
   "metadata": {},
   "outputs": [
    {
     "name": "stdout",
     "output_type": "stream",
     "text": [
      "<class 'pandas.core.frame.DataFrame'>\n",
      "RangeIndex: 301 entries, 0 to 300\n",
      "Data columns (total 9 columns):\n",
      " #   Column         Non-Null Count  Dtype  \n",
      "---  ------         --------------  -----  \n",
      " 0   Car_Name       301 non-null    object \n",
      " 1   Year           301 non-null    int64  \n",
      " 2   Selling_Price  301 non-null    float64\n",
      " 3   Present_Price  301 non-null    float64\n",
      " 4   Kms_Driven     301 non-null    int64  \n",
      " 5   Fuel_Type      301 non-null    object \n",
      " 6   Seller_Type    301 non-null    object \n",
      " 7   Transmission   301 non-null    object \n",
      " 8   Owner          301 non-null    int64  \n",
      "dtypes: float64(2), int64(3), object(4)\n",
      "memory usage: 21.3+ KB\n"
     ]
    }
   ],
   "source": [
    "#отображение информации о наборе данных\n",
    "dataset.info()"
   ]
  },
  {
   "cell_type": "code",
   "execution_count": 5,
   "id": "85828d17",
   "metadata": {},
   "outputs": [
    {
     "data": {
      "text/html": [
       "<div>\n",
       "<style scoped>\n",
       "    .dataframe tbody tr th:only-of-type {\n",
       "        vertical-align: middle;\n",
       "    }\n",
       "\n",
       "    .dataframe tbody tr th {\n",
       "        vertical-align: top;\n",
       "    }\n",
       "\n",
       "    .dataframe thead th {\n",
       "        text-align: right;\n",
       "    }\n",
       "</style>\n",
       "<table border=\"1\" class=\"dataframe\">\n",
       "  <thead>\n",
       "    <tr style=\"text-align: right;\">\n",
       "      <th></th>\n",
       "      <th>Year</th>\n",
       "      <th>Selling_Price</th>\n",
       "      <th>Present_Price</th>\n",
       "      <th>Kms_Driven</th>\n",
       "      <th>Owner</th>\n",
       "    </tr>\n",
       "  </thead>\n",
       "  <tbody>\n",
       "    <tr>\n",
       "      <th>count</th>\n",
       "      <td>301.000000</td>\n",
       "      <td>301.000000</td>\n",
       "      <td>301.000000</td>\n",
       "      <td>301.000000</td>\n",
       "      <td>301.000000</td>\n",
       "    </tr>\n",
       "    <tr>\n",
       "      <th>mean</th>\n",
       "      <td>2013.627907</td>\n",
       "      <td>4.661296</td>\n",
       "      <td>7.628472</td>\n",
       "      <td>36947.205980</td>\n",
       "      <td>0.043189</td>\n",
       "    </tr>\n",
       "    <tr>\n",
       "      <th>std</th>\n",
       "      <td>2.891554</td>\n",
       "      <td>5.082812</td>\n",
       "      <td>8.644115</td>\n",
       "      <td>38886.883882</td>\n",
       "      <td>0.247915</td>\n",
       "    </tr>\n",
       "    <tr>\n",
       "      <th>min</th>\n",
       "      <td>2003.000000</td>\n",
       "      <td>0.100000</td>\n",
       "      <td>0.320000</td>\n",
       "      <td>500.000000</td>\n",
       "      <td>0.000000</td>\n",
       "    </tr>\n",
       "    <tr>\n",
       "      <th>25%</th>\n",
       "      <td>2012.000000</td>\n",
       "      <td>0.900000</td>\n",
       "      <td>1.200000</td>\n",
       "      <td>15000.000000</td>\n",
       "      <td>0.000000</td>\n",
       "    </tr>\n",
       "    <tr>\n",
       "      <th>50%</th>\n",
       "      <td>2014.000000</td>\n",
       "      <td>3.600000</td>\n",
       "      <td>6.400000</td>\n",
       "      <td>32000.000000</td>\n",
       "      <td>0.000000</td>\n",
       "    </tr>\n",
       "    <tr>\n",
       "      <th>75%</th>\n",
       "      <td>2016.000000</td>\n",
       "      <td>6.000000</td>\n",
       "      <td>9.900000</td>\n",
       "      <td>48767.000000</td>\n",
       "      <td>0.000000</td>\n",
       "    </tr>\n",
       "    <tr>\n",
       "      <th>max</th>\n",
       "      <td>2018.000000</td>\n",
       "      <td>35.000000</td>\n",
       "      <td>92.600000</td>\n",
       "      <td>500000.000000</td>\n",
       "      <td>3.000000</td>\n",
       "    </tr>\n",
       "  </tbody>\n",
       "</table>\n",
       "</div>"
      ],
      "text/plain": [
       "              Year  Selling_Price  Present_Price     Kms_Driven       Owner\n",
       "count   301.000000     301.000000     301.000000     301.000000  301.000000\n",
       "mean   2013.627907       4.661296       7.628472   36947.205980    0.043189\n",
       "std       2.891554       5.082812       8.644115   38886.883882    0.247915\n",
       "min    2003.000000       0.100000       0.320000     500.000000    0.000000\n",
       "25%    2012.000000       0.900000       1.200000   15000.000000    0.000000\n",
       "50%    2014.000000       3.600000       6.400000   32000.000000    0.000000\n",
       "75%    2016.000000       6.000000       9.900000   48767.000000    0.000000\n",
       "max    2018.000000      35.000000      92.600000  500000.000000    3.000000"
      ]
     },
     "execution_count": 5,
     "metadata": {},
     "output_type": "execute_result"
    }
   ],
   "source": [
    "#Описание данных\n",
    "dataset.describe()"
   ]
  },
  {
   "cell_type": "code",
   "execution_count": 6,
   "id": "53e1e0b3",
   "metadata": {},
   "outputs": [],
   "source": [
    "#Добавление текущего года в набор данных для проверки возраста автомобиля\n",
    "dataset['Current_Year'] = 2022"
   ]
  },
  {
   "cell_type": "code",
   "execution_count": 7,
   "id": "ffd770b2",
   "metadata": {},
   "outputs": [
    {
     "data": {
      "text/html": [
       "<div>\n",
       "<style scoped>\n",
       "    .dataframe tbody tr th:only-of-type {\n",
       "        vertical-align: middle;\n",
       "    }\n",
       "\n",
       "    .dataframe tbody tr th {\n",
       "        vertical-align: top;\n",
       "    }\n",
       "\n",
       "    .dataframe thead th {\n",
       "        text-align: right;\n",
       "    }\n",
       "</style>\n",
       "<table border=\"1\" class=\"dataframe\">\n",
       "  <thead>\n",
       "    <tr style=\"text-align: right;\">\n",
       "      <th></th>\n",
       "      <th>Car_Name</th>\n",
       "      <th>Year</th>\n",
       "      <th>Selling_Price</th>\n",
       "      <th>Present_Price</th>\n",
       "      <th>Kms_Driven</th>\n",
       "      <th>Fuel_Type</th>\n",
       "      <th>Seller_Type</th>\n",
       "      <th>Transmission</th>\n",
       "      <th>Owner</th>\n",
       "      <th>Current_Year</th>\n",
       "    </tr>\n",
       "  </thead>\n",
       "  <tbody>\n",
       "    <tr>\n",
       "      <th>0</th>\n",
       "      <td>ritz</td>\n",
       "      <td>2014</td>\n",
       "      <td>3.35</td>\n",
       "      <td>5.59</td>\n",
       "      <td>27000</td>\n",
       "      <td>Petrol</td>\n",
       "      <td>Dealer</td>\n",
       "      <td>Manual</td>\n",
       "      <td>0</td>\n",
       "      <td>2022</td>\n",
       "    </tr>\n",
       "    <tr>\n",
       "      <th>1</th>\n",
       "      <td>sx4</td>\n",
       "      <td>2013</td>\n",
       "      <td>4.75</td>\n",
       "      <td>9.54</td>\n",
       "      <td>43000</td>\n",
       "      <td>Diesel</td>\n",
       "      <td>Dealer</td>\n",
       "      <td>Manual</td>\n",
       "      <td>0</td>\n",
       "      <td>2022</td>\n",
       "    </tr>\n",
       "    <tr>\n",
       "      <th>2</th>\n",
       "      <td>ciaz</td>\n",
       "      <td>2017</td>\n",
       "      <td>7.25</td>\n",
       "      <td>9.85</td>\n",
       "      <td>6900</td>\n",
       "      <td>Petrol</td>\n",
       "      <td>Dealer</td>\n",
       "      <td>Manual</td>\n",
       "      <td>0</td>\n",
       "      <td>2022</td>\n",
       "    </tr>\n",
       "    <tr>\n",
       "      <th>3</th>\n",
       "      <td>wagon r</td>\n",
       "      <td>2011</td>\n",
       "      <td>2.85</td>\n",
       "      <td>4.15</td>\n",
       "      <td>5200</td>\n",
       "      <td>Petrol</td>\n",
       "      <td>Dealer</td>\n",
       "      <td>Manual</td>\n",
       "      <td>0</td>\n",
       "      <td>2022</td>\n",
       "    </tr>\n",
       "    <tr>\n",
       "      <th>4</th>\n",
       "      <td>swift</td>\n",
       "      <td>2014</td>\n",
       "      <td>4.60</td>\n",
       "      <td>6.87</td>\n",
       "      <td>42450</td>\n",
       "      <td>Diesel</td>\n",
       "      <td>Dealer</td>\n",
       "      <td>Manual</td>\n",
       "      <td>0</td>\n",
       "      <td>2022</td>\n",
       "    </tr>\n",
       "  </tbody>\n",
       "</table>\n",
       "</div>"
      ],
      "text/plain": [
       "  Car_Name  Year  Selling_Price  Present_Price  Kms_Driven Fuel_Type  \\\n",
       "0     ritz  2014           3.35           5.59       27000    Petrol   \n",
       "1      sx4  2013           4.75           9.54       43000    Diesel   \n",
       "2     ciaz  2017           7.25           9.85        6900    Petrol   \n",
       "3  wagon r  2011           2.85           4.15        5200    Petrol   \n",
       "4    swift  2014           4.60           6.87       42450    Diesel   \n",
       "\n",
       "  Seller_Type Transmission  Owner  Current_Year  \n",
       "0      Dealer       Manual      0          2022  \n",
       "1      Dealer       Manual      0          2022  \n",
       "2      Dealer       Manual      0          2022  \n",
       "3      Dealer       Manual      0          2022  \n",
       "4      Dealer       Manual      0          2022  "
      ]
     },
     "execution_count": 7,
     "metadata": {},
     "output_type": "execute_result"
    }
   ],
   "source": [
    "dataset.head()"
   ]
  },
  {
   "cell_type": "code",
   "execution_count": 8,
   "id": "c216c0a2",
   "metadata": {},
   "outputs": [],
   "source": [
    "dataset['Age'] = dataset['Current_Year']-dataset['Year']"
   ]
  },
  {
   "cell_type": "code",
   "execution_count": 9,
   "id": "d92f515c",
   "metadata": {},
   "outputs": [
    {
     "data": {
      "text/html": [
       "<div>\n",
       "<style scoped>\n",
       "    .dataframe tbody tr th:only-of-type {\n",
       "        vertical-align: middle;\n",
       "    }\n",
       "\n",
       "    .dataframe tbody tr th {\n",
       "        vertical-align: top;\n",
       "    }\n",
       "\n",
       "    .dataframe thead th {\n",
       "        text-align: right;\n",
       "    }\n",
       "</style>\n",
       "<table border=\"1\" class=\"dataframe\">\n",
       "  <thead>\n",
       "    <tr style=\"text-align: right;\">\n",
       "      <th></th>\n",
       "      <th>Car_Name</th>\n",
       "      <th>Year</th>\n",
       "      <th>Selling_Price</th>\n",
       "      <th>Present_Price</th>\n",
       "      <th>Kms_Driven</th>\n",
       "      <th>Fuel_Type</th>\n",
       "      <th>Seller_Type</th>\n",
       "      <th>Transmission</th>\n",
       "      <th>Owner</th>\n",
       "      <th>Current_Year</th>\n",
       "      <th>Age</th>\n",
       "    </tr>\n",
       "  </thead>\n",
       "  <tbody>\n",
       "    <tr>\n",
       "      <th>0</th>\n",
       "      <td>ritz</td>\n",
       "      <td>2014</td>\n",
       "      <td>3.35</td>\n",
       "      <td>5.59</td>\n",
       "      <td>27000</td>\n",
       "      <td>Petrol</td>\n",
       "      <td>Dealer</td>\n",
       "      <td>Manual</td>\n",
       "      <td>0</td>\n",
       "      <td>2022</td>\n",
       "      <td>8</td>\n",
       "    </tr>\n",
       "    <tr>\n",
       "      <th>1</th>\n",
       "      <td>sx4</td>\n",
       "      <td>2013</td>\n",
       "      <td>4.75</td>\n",
       "      <td>9.54</td>\n",
       "      <td>43000</td>\n",
       "      <td>Diesel</td>\n",
       "      <td>Dealer</td>\n",
       "      <td>Manual</td>\n",
       "      <td>0</td>\n",
       "      <td>2022</td>\n",
       "      <td>9</td>\n",
       "    </tr>\n",
       "    <tr>\n",
       "      <th>2</th>\n",
       "      <td>ciaz</td>\n",
       "      <td>2017</td>\n",
       "      <td>7.25</td>\n",
       "      <td>9.85</td>\n",
       "      <td>6900</td>\n",
       "      <td>Petrol</td>\n",
       "      <td>Dealer</td>\n",
       "      <td>Manual</td>\n",
       "      <td>0</td>\n",
       "      <td>2022</td>\n",
       "      <td>5</td>\n",
       "    </tr>\n",
       "    <tr>\n",
       "      <th>3</th>\n",
       "      <td>wagon r</td>\n",
       "      <td>2011</td>\n",
       "      <td>2.85</td>\n",
       "      <td>4.15</td>\n",
       "      <td>5200</td>\n",
       "      <td>Petrol</td>\n",
       "      <td>Dealer</td>\n",
       "      <td>Manual</td>\n",
       "      <td>0</td>\n",
       "      <td>2022</td>\n",
       "      <td>11</td>\n",
       "    </tr>\n",
       "    <tr>\n",
       "      <th>4</th>\n",
       "      <td>swift</td>\n",
       "      <td>2014</td>\n",
       "      <td>4.60</td>\n",
       "      <td>6.87</td>\n",
       "      <td>42450</td>\n",
       "      <td>Diesel</td>\n",
       "      <td>Dealer</td>\n",
       "      <td>Manual</td>\n",
       "      <td>0</td>\n",
       "      <td>2022</td>\n",
       "      <td>8</td>\n",
       "    </tr>\n",
       "  </tbody>\n",
       "</table>\n",
       "</div>"
      ],
      "text/plain": [
       "  Car_Name  Year  Selling_Price  Present_Price  Kms_Driven Fuel_Type  \\\n",
       "0     ritz  2014           3.35           5.59       27000    Petrol   \n",
       "1      sx4  2013           4.75           9.54       43000    Diesel   \n",
       "2     ciaz  2017           7.25           9.85        6900    Petrol   \n",
       "3  wagon r  2011           2.85           4.15        5200    Petrol   \n",
       "4    swift  2014           4.60           6.87       42450    Diesel   \n",
       "\n",
       "  Seller_Type Transmission  Owner  Current_Year  Age  \n",
       "0      Dealer       Manual      0          2022    8  \n",
       "1      Dealer       Manual      0          2022    9  \n",
       "2      Dealer       Manual      0          2022    5  \n",
       "3      Dealer       Manual      0          2022   11  \n",
       "4      Dealer       Manual      0          2022    8  "
      ]
     },
     "execution_count": 9,
     "metadata": {},
     "output_type": "execute_result"
    }
   ],
   "source": [
    "dataset.head()"
   ]
  },
  {
   "cell_type": "markdown",
   "id": "ff30ff98",
   "metadata": {},
   "source": [
    "<h3>Анализ первичных данных приведен (EDA) ниже:</h3>"
   ]
  },
  {
   "cell_type": "code",
   "execution_count": 10,
   "id": "724889d8",
   "metadata": {},
   "outputs": [
    {
     "data": {
      "text/plain": [
       "<AxesSubplot:xlabel='Year', ylabel='count'>"
      ]
     },
     "execution_count": 10,
     "metadata": {},
     "output_type": "execute_result"
    },
    {
     "data": {
      "image/png": "[encoded data removed]",
      "text/plain": [
       "<Figure size 432x288 with 1 Axes>"
      ]
     },
     "metadata": {
      "needs_background": "light"
     },
     "output_type": "display_data"
    }
   ],
   "source": [
    "#мы используем countplot, чтобы показать количество наблюдений в каждой категориальной ячейке с помощью столбцов\n",
    "sns.countplot('Year', data=dataset)"
   ]
  },
  {
   "cell_type": "code",
   "execution_count": 11,
   "id": "2c5de345",
   "metadata": {},
   "outputs": [
    {
     "data": {
      "text/plain": [
       "<AxesSubplot:xlabel='Fuel_Type', ylabel='count'>"
      ]
     },
     "execution_count": 11,
     "metadata": {},
     "output_type": "execute_result"
    },
    {
     "data": {
      "image/png": "[encoded data removed]",
      "text/plain": [
       "<Figure size 432x288 with 1 Axes>"
      ]
     },
     "metadata": {
      "needs_background": "light"
     },
     "output_type": "display_data"
    }
   ],
   "source": [
    "sns.countplot('Fuel_Type', data=dataset)"
   ]
  },
  {
   "cell_type": "code",
   "execution_count": 12,
   "id": "2a79764f",
   "metadata": {},
   "outputs": [
    {
     "data": {
      "text/plain": [
       "<AxesSubplot:xlabel='Seller_Type', ylabel='count'>"
      ]
     },
     "execution_count": 12,
     "metadata": {},
     "output_type": "execute_result"
    },
    {
     "data": {
      "image/png": "[encoded data removed]",
      "text/plain": [
       "<Figure size 432x288 with 1 Axes>"
      ]
     },
     "metadata": {
      "needs_background": "light"
     },
     "output_type": "display_data"
    }
   ],
   "source": [
    "sns.countplot('Seller_Type', data=dataset)"
   ]
  },
  {
   "cell_type": "code",
   "execution_count": 13,
   "id": "54805f95",
   "metadata": {},
   "outputs": [
    {
     "data": {
      "text/plain": [
       "<AxesSubplot:xlabel='Transmission', ylabel='count'>"
      ]
     },
     "execution_count": 13,
     "metadata": {},
     "output_type": "execute_result"
    },
    {
     "data": {
      "image/png": "[encoded data removed]",
      "text/plain": [
       "<Figure size 432x288 with 1 Axes>"
      ]
     },
     "metadata": {
      "needs_background": "light"
     },
     "output_type": "display_data"
    }
   ],
   "source": [
    "sns.countplot('Transmission', data=dataset)"
   ]
  },
  {
   "cell_type": "markdown",
   "id": "3ded8c01",
   "metadata": {},
   "source": [
    "<p>Distplot представляет одномерное распределение данных, и мы используем этот график для сравнения двух столбцов нашего набора данных.</p>"
   ]
  },
  {
   "cell_type": "code",
   "execution_count": 14,
   "id": "c86bf90a",
   "metadata": {},
   "outputs": [
    {
     "data": {
      "text/plain": [
       "<seaborn.axisgrid.FacetGrid at 0x21f4f910460>"
      ]
     },
     "execution_count": 14,
     "metadata": {},
     "output_type": "execute_result"
    },
    {
     "data": {
      "image/png": "[encoded data removed]",
      "text/plain": [
       "<Figure size 360x360 with 1 Axes>"
      ]
     },
     "metadata": {
      "needs_background": "light"
     },
     "output_type": "display_data"
    }
   ],
   "source": [
    "sns.displot(x = 'Year', y = 'Selling_Price', data=dataset)"
   ]
  },
  {
   "cell_type": "code",
   "execution_count": 15,
   "id": "01f3a6c2",
   "metadata": {},
   "outputs": [
    {
     "data": {
      "text/plain": [
       "2015    61\n",
       "2016    50\n",
       "2014    38\n",
       "2017    35\n",
       "2013    33\n",
       "2012    23\n",
       "2011    19\n",
       "2010    15\n",
       "2008     7\n",
       "2009     6\n",
       "2006     4\n",
       "2005     4\n",
       "2003     2\n",
       "2007     2\n",
       "2018     1\n",
       "2004     1\n",
       "Name: Year, dtype: int64"
      ]
     },
     "execution_count": 15,
     "metadata": {},
     "output_type": "execute_result"
    }
   ],
   "source": [
    "dataset['Year'].value_counts()"
   ]
  },
  {
   "cell_type": "code",
   "execution_count": 16,
   "id": "defa07bf",
   "metadata": {},
   "outputs": [
    {
     "data": {
      "text/plain": [
       "Petrol    239\n",
       "Diesel     60\n",
       "CNG         2\n",
       "Name: Fuel_Type, dtype: int64"
      ]
     },
     "execution_count": 16,
     "metadata": {},
     "output_type": "execute_result"
    }
   ],
   "source": [
    "dataset['Fuel_Type'].value_counts()"
   ]
  },
  {
   "cell_type": "code",
   "execution_count": 17,
   "id": "e30a89ac",
   "metadata": {},
   "outputs": [
    {
     "data": {
      "text/plain": [
       "Dealer        195\n",
       "Individual    106\n",
       "Name: Seller_Type, dtype: int64"
      ]
     },
     "execution_count": 17,
     "metadata": {},
     "output_type": "execute_result"
    }
   ],
   "source": [
    "dataset['Seller_Type'].value_counts()"
   ]
  },
  {
   "cell_type": "code",
   "execution_count": 18,
   "id": "298c9646",
   "metadata": {},
   "outputs": [
    {
     "data": {
      "text/plain": [
       "Manual       261\n",
       "Automatic     40\n",
       "Name: Transmission, dtype: int64"
      ]
     },
     "execution_count": 18,
     "metadata": {},
     "output_type": "execute_result"
    }
   ],
   "source": [
    "dataset['Transmission'].value_counts()"
   ]
  },
  {
   "cell_type": "code",
   "execution_count": 19,
   "id": "c20a9340",
   "metadata": {},
   "outputs": [
    {
     "data": {
      "text/plain": [
       "(301, 11)"
      ]
     },
     "execution_count": 19,
     "metadata": {},
     "output_type": "execute_result"
    }
   ],
   "source": [
    "#Отображение строки и столбца данных\n",
    "dataset.shape"
   ]
  },
  {
   "cell_type": "code",
   "execution_count": 20,
   "id": "96795aab",
   "metadata": {},
   "outputs": [
    {
     "name": "stdout",
     "output_type": "stream",
     "text": [
      "Нет, у нас нет пустого значения в наборе данных\n"
     ]
    }
   ],
   "source": [
    "#Проверка нулевого значения в нашем наборе данных :\n",
    "checkEmptyValue = dataset.isnull()\n",
    "if checkEmptyValue.empty:\n",
    "    print(\"У нас есть пустое значение в наборе данных\")\n",
    "else:\n",
    "    print(\"Нет, у нас нет пустого значения в наборе данных\")"
   ]
  },
  {
   "cell_type": "markdown",
   "id": "7eb23533",
   "metadata": {},
   "source": [
    "<h3>Визуализация данных:</h3>\n",
    "<p>Парный график используется для понимания наилучшего набора признаков, чтобы объяснить взаимосвязь между двумя переменными или сформировать наиболее разделенные кластеры. Это также помогает сформировать некоторые простые модели классификации, нарисовав несколько простых линий или сделав линейное разделение в нашем наборе данных.</p>"
   ]
  },
  {
   "cell_type": "code",
   "execution_count": 21,
   "id": "37f6834f",
   "metadata": {},
   "outputs": [
    {
     "data": {
      "text/plain": [
       "<Figure size 2160x2160 with 0 Axes>"
      ]
     },
     "metadata": {},
     "output_type": "display_data"
    },
    {
     "data": {
      "image/png": "[encoded data removed]",
      "text/plain": [
       "<Figure size 1260x1260 with 56 Axes>"
      ]
     },
     "metadata": {
      "needs_background": "light"
     },
     "output_type": "display_data"
    }
   ],
   "source": [
    "plt.figure(figsize = (30,30))\n",
    "sns.pairplot(dataset)\n",
    "plt.show()"
   ]
  },
  {
   "cell_type": "code",
   "execution_count": 22,
   "id": "7cecdd07",
   "metadata": {},
   "outputs": [
    {
     "data": {
      "text/html": [
       "<div>\n",
       "<style scoped>\n",
       "    .dataframe tbody tr th:only-of-type {\n",
       "        vertical-align: middle;\n",
       "    }\n",
       "\n",
       "    .dataframe tbody tr th {\n",
       "        vertical-align: top;\n",
       "    }\n",
       "\n",
       "    .dataframe thead th {\n",
       "        text-align: right;\n",
       "    }\n",
       "</style>\n",
       "<table border=\"1\" class=\"dataframe\">\n",
       "  <thead>\n",
       "    <tr style=\"text-align: right;\">\n",
       "      <th></th>\n",
       "      <th>Year</th>\n",
       "      <th>Selling_Price</th>\n",
       "      <th>Present_Price</th>\n",
       "      <th>Kms_Driven</th>\n",
       "      <th>Owner</th>\n",
       "      <th>Current_Year</th>\n",
       "      <th>Age</th>\n",
       "    </tr>\n",
       "  </thead>\n",
       "  <tbody>\n",
       "    <tr>\n",
       "      <th>0</th>\n",
       "      <td>2014</td>\n",
       "      <td>3.35</td>\n",
       "      <td>5.59</td>\n",
       "      <td>27000</td>\n",
       "      <td>0</td>\n",
       "      <td>2022</td>\n",
       "      <td>8</td>\n",
       "    </tr>\n",
       "    <tr>\n",
       "      <th>1</th>\n",
       "      <td>2013</td>\n",
       "      <td>4.75</td>\n",
       "      <td>9.54</td>\n",
       "      <td>43000</td>\n",
       "      <td>0</td>\n",
       "      <td>2022</td>\n",
       "      <td>9</td>\n",
       "    </tr>\n",
       "    <tr>\n",
       "      <th>2</th>\n",
       "      <td>2017</td>\n",
       "      <td>7.25</td>\n",
       "      <td>9.85</td>\n",
       "      <td>6900</td>\n",
       "      <td>0</td>\n",
       "      <td>2022</td>\n",
       "      <td>5</td>\n",
       "    </tr>\n",
       "    <tr>\n",
       "      <th>3</th>\n",
       "      <td>2011</td>\n",
       "      <td>2.85</td>\n",
       "      <td>4.15</td>\n",
       "      <td>5200</td>\n",
       "      <td>0</td>\n",
       "      <td>2022</td>\n",
       "      <td>11</td>\n",
       "    </tr>\n",
       "    <tr>\n",
       "      <th>4</th>\n",
       "      <td>2014</td>\n",
       "      <td>4.60</td>\n",
       "      <td>6.87</td>\n",
       "      <td>42450</td>\n",
       "      <td>0</td>\n",
       "      <td>2022</td>\n",
       "      <td>8</td>\n",
       "    </tr>\n",
       "  </tbody>\n",
       "</table>\n",
       "</div>"
      ],
      "text/plain": [
       "   Year  Selling_Price  Present_Price  Kms_Driven  Owner  Current_Year  Age\n",
       "0  2014           3.35           5.59       27000      0          2022    8\n",
       "1  2013           4.75           9.54       43000      0          2022    9\n",
       "2  2017           7.25           9.85        6900      0          2022    5\n",
       "3  2011           2.85           4.15        5200      0          2022   11\n",
       "4  2014           4.60           6.87       42450      0          2022    8"
      ]
     },
     "execution_count": 22,
     "metadata": {},
     "output_type": "execute_result"
    }
   ],
   "source": [
    "numeric_columns = dataset.select_dtypes(include =['int64','float64'])\n",
    "numeric_columns.head()"
   ]
  },
  {
   "cell_type": "code",
   "execution_count": 23,
   "id": "9028d068",
   "metadata": {},
   "outputs": [
    {
     "data": {
      "image/png": "[encoded data removed]",
      "text/plain": [
       "<Figure size 1440x1440 with 2 Axes>"
      ]
     },
     "metadata": {
      "needs_background": "light"
     },
     "output_type": "display_data"
    }
   ],
   "source": [
    "plt.figure(figsize = (20,20))\n",
    "sns.heatmap(dataset.corr(), annot = True ,cmap = 'YlGnBu')\n",
    "plt.show()"
   ]
  },
  {
   "cell_type": "code",
   "execution_count": 24,
   "id": "561d3a18",
   "metadata": {},
   "outputs": [
    {
     "data": {
      "text/html": [
       "<div>\n",
       "<style scoped>\n",
       "    .dataframe tbody tr th:only-of-type {\n",
       "        vertical-align: middle;\n",
       "    }\n",
       "\n",
       "    .dataframe tbody tr th {\n",
       "        vertical-align: top;\n",
       "    }\n",
       "\n",
       "    .dataframe thead th {\n",
       "        text-align: right;\n",
       "    }\n",
       "</style>\n",
       "<table border=\"1\" class=\"dataframe\">\n",
       "  <thead>\n",
       "    <tr style=\"text-align: right;\">\n",
       "      <th></th>\n",
       "      <th>Car_Name</th>\n",
       "      <th>Fuel_Type</th>\n",
       "      <th>Seller_Type</th>\n",
       "      <th>Transmission</th>\n",
       "    </tr>\n",
       "  </thead>\n",
       "  <tbody>\n",
       "    <tr>\n",
       "      <th>0</th>\n",
       "      <td>ritz</td>\n",
       "      <td>Petrol</td>\n",
       "      <td>Dealer</td>\n",
       "      <td>Manual</td>\n",
       "    </tr>\n",
       "    <tr>\n",
       "      <th>1</th>\n",
       "      <td>sx4</td>\n",
       "      <td>Diesel</td>\n",
       "      <td>Dealer</td>\n",
       "      <td>Manual</td>\n",
       "    </tr>\n",
       "    <tr>\n",
       "      <th>2</th>\n",
       "      <td>ciaz</td>\n",
       "      <td>Petrol</td>\n",
       "      <td>Dealer</td>\n",
       "      <td>Manual</td>\n",
       "    </tr>\n",
       "    <tr>\n",
       "      <th>3</th>\n",
       "      <td>wagon r</td>\n",
       "      <td>Petrol</td>\n",
       "      <td>Dealer</td>\n",
       "      <td>Manual</td>\n",
       "    </tr>\n",
       "    <tr>\n",
       "      <th>4</th>\n",
       "      <td>swift</td>\n",
       "      <td>Diesel</td>\n",
       "      <td>Dealer</td>\n",
       "      <td>Manual</td>\n",
       "    </tr>\n",
       "  </tbody>\n",
       "</table>\n",
       "</div>"
      ],
      "text/plain": [
       "  Car_Name Fuel_Type Seller_Type Transmission\n",
       "0     ritz    Petrol      Dealer       Manual\n",
       "1      sx4    Diesel      Dealer       Manual\n",
       "2     ciaz    Petrol      Dealer       Manual\n",
       "3  wagon r    Petrol      Dealer       Manual\n",
       "4    swift    Diesel      Dealer       Manual"
      ]
     },
     "execution_count": 24,
     "metadata": {},
     "output_type": "execute_result"
    }
   ],
   "source": [
    "categorical_cols = dataset.select_dtypes(include=['object'])\n",
    "categorical_cols.head()"
   ]
  },
  {
   "cell_type": "code",
   "execution_count": 25,
   "id": "10fe67a2",
   "metadata": {},
   "outputs": [
    {
     "data": {
      "text/plain": [
       "<AxesSubplot:xlabel='Transmission', ylabel='Selling_Price'>"
      ]
     },
     "execution_count": 25,
     "metadata": {},
     "output_type": "execute_result"
    },
    {
     "data": {
      "image/png": "[encoded data removed]",
      "text/plain": [
       "<Figure size 1440x864 with 3 Axes>"
      ]
     },
     "metadata": {
      "needs_background": "light"
     },
     "output_type": "display_data"
    }
   ],
   "source": [
    "plt.figure(figsize=(20, 12))\n",
    "\n",
    "plt.subplot(3, 3, 1) # 3 rows, 3 columns, 3rd subplot = right\n",
    "sns.boxplot(x='Fuel_Type', y='Selling_Price', data=dataset)\n",
    "\n",
    "plt.subplot(3, 3, 2)\n",
    "sns.boxplot(x='Seller_Type', y='Selling_Price', data=dataset)\n",
    "\n",
    "plt.subplot(3, 3, 3)\n",
    "sns.boxplot(x='Transmission', y='Selling_Price', data=dataset)"
   ]
  },
  {
   "cell_type": "code",
   "execution_count": 26,
   "id": "4ec025d7",
   "metadata": {},
   "outputs": [
    {
     "data": {
      "text/plain": [
       "<AxesSubplot:xlabel='Year', ylabel='Selling_Price'>"
      ]
     },
     "execution_count": 26,
     "metadata": {},
     "output_type": "execute_result"
    },
    {
     "data": {
      "image/png": "[encoded data removed]",
      "text/plain": [
       "<Figure size 1440x720 with 1 Axes>"
      ]
     },
     "metadata": {
      "needs_background": "light"
     },
     "output_type": "display_data"
    }
   ],
   "source": [
    "plt.figure(figsize=(20, 10))\n",
    "sns.boxplot(x='Year', y='Selling_Price', data=dataset)"
   ]
  },
  {
   "cell_type": "markdown",
   "id": "e69a3793",
   "metadata": {},
   "source": [
    "<h3>Некоторая дедукция</h3>\n",
    "<p>Некоторая дедукция\n",
    "Таблица цен показывает, что модели автомобилей 2015, 2016 и 2017 годов выпуска слишком дороги, чем другие автомобили, если мы сравним их.\n",
    "В то время как более дешевые автомобили относятся к автомобилям 2007 и 2004 годов выпуска.\n",
    "\n",
    "Средняя цена бензиновых автомобилей выше, чем дизельных автомобилей и КПГ.\n",
    "\n",
    "Большинство продавцов автомобилей являются дилерами, а дилеры - продавцы автомобилей - это нечто большее, чем отдельные продавцы автомобилей.\n",
    "\n",
    "Большинство автомобилей с высокой ценой продажи имеют механическую коробку передач, и меньше всего автомобилей имеют автоматическую.</p>"
   ]
  },
  {
   "cell_type": "markdown",
   "id": "bb699069",
   "metadata": {},
   "source": [
    "<h3>Подготовка данных :</h3>\n",
    "<p>Одноразовое кодирование - важный шаг для подготовки нашего набора данных к использованию в машинном обучении. Однократное кодирование превращает ваши категориальные данные в двоичное векторное представление</p>\n",
    "<p>Это означает, что для каждого уникального значения в столбце создается новый столбец. Значения в этом столбце представлены в виде 1 и 0, в зависимости от того, соответствует ли значение заголовку столбца.</p>"
   ]
  },
  {
   "cell_type": "code",
   "execution_count": 27,
   "id": "556d579b",
   "metadata": {},
   "outputs": [],
   "source": [
    "dataset = dataset.select_dtypes(include=['number']).copy()\n",
    "dataset=pd.get_dummies(dataset,drop_first=True)\n",
    "# #removes multiple columns of the dataset as some column contain the same \n",
    "# #information because the original column could assume a binary value. "
   ]
  },
  {
   "cell_type": "code",
   "execution_count": 28,
   "id": "2297cfcd",
   "metadata": {},
   "outputs": [
    {
     "data": {
      "text/html": [
       "<div>\n",
       "<style scoped>\n",
       "    .dataframe tbody tr th:only-of-type {\n",
       "        vertical-align: middle;\n",
       "    }\n",
       "\n",
       "    .dataframe tbody tr th {\n",
       "        vertical-align: top;\n",
       "    }\n",
       "\n",
       "    .dataframe thead th {\n",
       "        text-align: right;\n",
       "    }\n",
       "</style>\n",
       "<table border=\"1\" class=\"dataframe\">\n",
       "  <thead>\n",
       "    <tr style=\"text-align: right;\">\n",
       "      <th></th>\n",
       "      <th>Year</th>\n",
       "      <th>Selling_Price</th>\n",
       "      <th>Present_Price</th>\n",
       "      <th>Kms_Driven</th>\n",
       "      <th>Owner</th>\n",
       "      <th>Current_Year</th>\n",
       "      <th>Age</th>\n",
       "    </tr>\n",
       "  </thead>\n",
       "  <tbody>\n",
       "    <tr>\n",
       "      <th>0</th>\n",
       "      <td>2014</td>\n",
       "      <td>3.35</td>\n",
       "      <td>5.59</td>\n",
       "      <td>27000</td>\n",
       "      <td>0</td>\n",
       "      <td>2022</td>\n",
       "      <td>8</td>\n",
       "    </tr>\n",
       "    <tr>\n",
       "      <th>1</th>\n",
       "      <td>2013</td>\n",
       "      <td>4.75</td>\n",
       "      <td>9.54</td>\n",
       "      <td>43000</td>\n",
       "      <td>0</td>\n",
       "      <td>2022</td>\n",
       "      <td>9</td>\n",
       "    </tr>\n",
       "    <tr>\n",
       "      <th>2</th>\n",
       "      <td>2017</td>\n",
       "      <td>7.25</td>\n",
       "      <td>9.85</td>\n",
       "      <td>6900</td>\n",
       "      <td>0</td>\n",
       "      <td>2022</td>\n",
       "      <td>5</td>\n",
       "    </tr>\n",
       "    <tr>\n",
       "      <th>3</th>\n",
       "      <td>2011</td>\n",
       "      <td>2.85</td>\n",
       "      <td>4.15</td>\n",
       "      <td>5200</td>\n",
       "      <td>0</td>\n",
       "      <td>2022</td>\n",
       "      <td>11</td>\n",
       "    </tr>\n",
       "    <tr>\n",
       "      <th>4</th>\n",
       "      <td>2014</td>\n",
       "      <td>4.60</td>\n",
       "      <td>6.87</td>\n",
       "      <td>42450</td>\n",
       "      <td>0</td>\n",
       "      <td>2022</td>\n",
       "      <td>8</td>\n",
       "    </tr>\n",
       "  </tbody>\n",
       "</table>\n",
       "</div>"
      ],
      "text/plain": [
       "   Year  Selling_Price  Present_Price  Kms_Driven  Owner  Current_Year  Age\n",
       "0  2014           3.35           5.59       27000      0          2022    8\n",
       "1  2013           4.75           9.54       43000      0          2022    9\n",
       "2  2017           7.25           9.85        6900      0          2022    5\n",
       "3  2011           2.85           4.15        5200      0          2022   11\n",
       "4  2014           4.60           6.87       42450      0          2022    8"
      ]
     },
     "execution_count": 28,
     "metadata": {},
     "output_type": "execute_result"
    }
   ],
   "source": [
    "dataset.head()"
   ]
  },
  {
   "cell_type": "code",
   "execution_count": 29,
   "id": "2aafb9cc",
   "metadata": {},
   "outputs": [],
   "source": [
    "# X_train, X_test = train_test_split(dataset, train_size = 0.7, test_size = 0.3, random_state = 100)\n",
    "X = dataset.drop('Selling_Price', axis = 1).values\n",
    "Y = dataset['Selling_Price'].values"
   ]
  },
  {
   "cell_type": "code",
   "execution_count": 30,
   "id": "b8c206a6",
   "metadata": {},
   "outputs": [
    {
     "data": {
      "text/html": [
       "<div>\n",
       "<style scoped>\n",
       "    .dataframe tbody tr th:only-of-type {\n",
       "        vertical-align: middle;\n",
       "    }\n",
       "\n",
       "    .dataframe tbody tr th {\n",
       "        vertical-align: top;\n",
       "    }\n",
       "\n",
       "    .dataframe thead th {\n",
       "        text-align: right;\n",
       "    }\n",
       "</style>\n",
       "<table border=\"1\" class=\"dataframe\">\n",
       "  <thead>\n",
       "    <tr style=\"text-align: right;\">\n",
       "      <th></th>\n",
       "      <th>Year</th>\n",
       "      <th>Selling_Price</th>\n",
       "      <th>Present_Price</th>\n",
       "      <th>Kms_Driven</th>\n",
       "      <th>Owner</th>\n",
       "      <th>Current_Year</th>\n",
       "      <th>Age</th>\n",
       "    </tr>\n",
       "  </thead>\n",
       "  <tbody>\n",
       "    <tr>\n",
       "      <th>0</th>\n",
       "      <td>2014</td>\n",
       "      <td>3.35</td>\n",
       "      <td>5.59</td>\n",
       "      <td>27000</td>\n",
       "      <td>0</td>\n",
       "      <td>2022</td>\n",
       "      <td>8</td>\n",
       "    </tr>\n",
       "    <tr>\n",
       "      <th>1</th>\n",
       "      <td>2013</td>\n",
       "      <td>4.75</td>\n",
       "      <td>9.54</td>\n",
       "      <td>43000</td>\n",
       "      <td>0</td>\n",
       "      <td>2022</td>\n",
       "      <td>9</td>\n",
       "    </tr>\n",
       "    <tr>\n",
       "      <th>2</th>\n",
       "      <td>2017</td>\n",
       "      <td>7.25</td>\n",
       "      <td>9.85</td>\n",
       "      <td>6900</td>\n",
       "      <td>0</td>\n",
       "      <td>2022</td>\n",
       "      <td>5</td>\n",
       "    </tr>\n",
       "    <tr>\n",
       "      <th>3</th>\n",
       "      <td>2011</td>\n",
       "      <td>2.85</td>\n",
       "      <td>4.15</td>\n",
       "      <td>5200</td>\n",
       "      <td>0</td>\n",
       "      <td>2022</td>\n",
       "      <td>11</td>\n",
       "    </tr>\n",
       "    <tr>\n",
       "      <th>4</th>\n",
       "      <td>2014</td>\n",
       "      <td>4.60</td>\n",
       "      <td>6.87</td>\n",
       "      <td>42450</td>\n",
       "      <td>0</td>\n",
       "      <td>2022</td>\n",
       "      <td>8</td>\n",
       "    </tr>\n",
       "  </tbody>\n",
       "</table>\n",
       "</div>"
      ],
      "text/plain": [
       "   Year  Selling_Price  Present_Price  Kms_Driven  Owner  Current_Year  Age\n",
       "0  2014           3.35           5.59       27000      0          2022    8\n",
       "1  2013           4.75           9.54       43000      0          2022    9\n",
       "2  2017           7.25           9.85        6900      0          2022    5\n",
       "3  2011           2.85           4.15        5200      0          2022   11\n",
       "4  2014           4.60           6.87       42450      0          2022    8"
      ]
     },
     "execution_count": 30,
     "metadata": {},
     "output_type": "execute_result"
    }
   ],
   "source": [
    "dataset.head()"
   ]
  },
  {
   "cell_type": "code",
   "execution_count": 31,
   "id": "0a73e3ec",
   "metadata": {},
   "outputs": [],
   "source": [
    "from sklearn.model_selection import train_test_split"
   ]
  },
  {
   "cell_type": "code",
   "execution_count": 32,
   "id": "75389424",
   "metadata": {},
   "outputs": [],
   "source": [
    "X_train, X_test, y_train, y_test = train_test_split(X,Y, test_size=0.2, random_state=13)"
   ]
  },
  {
   "cell_type": "code",
   "execution_count": 33,
   "id": "45109521",
   "metadata": {},
   "outputs": [
    {
     "data": {
      "text/plain": [
       "(240, 6)"
      ]
     },
     "execution_count": 33,
     "metadata": {},
     "output_type": "execute_result"
    }
   ],
   "source": [
    "X_train.shape"
   ]
  },
  {
   "cell_type": "code",
   "execution_count": 34,
   "id": "0172c10a",
   "metadata": {},
   "outputs": [
    {
     "data": {
      "text/plain": [
       "(240,)"
      ]
     },
     "execution_count": 34,
     "metadata": {},
     "output_type": "execute_result"
    }
   ],
   "source": [
    "y_train.shape"
   ]
  },
  {
   "cell_type": "markdown",
   "id": "982616b5",
   "metadata": {},
   "source": [
    "<p>Среднеквадратичная ошибка (MSE) - это, пожалуй, самая простая и распространенная функция потерь, которой часто обучают на вводных курсах машинного обучения.Среднеквадратичная ошибка (MSE) - это, пожалуй, самая простая и распространенная функция потерь, которой часто обучают на вводных курсах машинного обучения.</p>\n",
    "<img src=\"mean_squared_error.svg\" alt=\"Alternative text\" style=\"width:200px; height:100px; float:left;\" />\n"
   ]
  },
  {
   "cell_type": "code",
   "execution_count": 35,
   "id": "b57819d1",
   "metadata": {},
   "outputs": [],
   "source": [
    "def mse_formula(actual_data, predicted_data):\n",
    "    actual_y = np.array(actual_data)\n",
    "    predicted_data = np.array(predicted_data)\n",
    "    difference = np.subtract(actual_data, predicted_data)\n",
    "    squared_diff = np.square(difference)\n",
    "    return squared_diff.mean()"
   ]
  },
  {
   "cell_type": "markdown",
   "id": "3db8f47a",
   "metadata": {},
   "source": [
    "<p>RMSE - это показатель того, насколько распределены эти остатки. Другими словами, он сообщает вам, насколько сконцентрированы данные вокруг линии наилучшего соответствия.</p>\n",
    "<img src=\"root_mean_square_deviation.svg\" alt=\"Alternative text\" style=\"width:200px; height:100px; float:left;\" />"
   ]
  },
  {
   "cell_type": "code",
   "execution_count": 36,
   "id": "69ad3391",
   "metadata": {},
   "outputs": [],
   "source": [
    "def rmse_formula(actual_data, predicted_data):\n",
    "    return (mse_formula(actual_data, predicted_data)) ** 0.5"
   ]
  },
  {
   "cell_type": "markdown",
   "id": "e4f06554",
   "metadata": {},
   "source": [
    "<p>R2 вычисляется путем деления суммы квадратов остатков из регрессионной модели (SSres) на общую сумму квадратов ошибок из средней модели (заданной SStot), а затем вычитания ее из 1.</p>\n",
    "<img src=\"r2.png\" alt=\"Alternative text\" style=\"width:300px; float:left\" />"
   ]
  },
  {
   "cell_type": "code",
   "execution_count": 37,
   "id": "35191e66",
   "metadata": {},
   "outputs": [],
   "source": [
    "def r2_formula(actual_data, predicted_data):\n",
    "    actual_data = np.array(actual_data)\n",
    "    predicted_data = np.array(predicted_data)\n",
    "    difference1 = np.subtract(actual_data, predicted_data)\n",
    "    squared_diff1 = np.square(difference1)\n",
    "    difference2 = actual_data - actual_data.mean()\n",
    "    squared_diff2 = np.square(difference2)\n",
    "    return 1-squared_diff1.sum()/squared_diff2.sum()"
   ]
  },
  {
   "cell_type": "markdown",
   "id": "f079656d",
   "metadata": {},
   "source": [
    "<p>Чтобы упростить нашу работу, мы создадим функцию для вызова всех других функций, которые мы уже создали ранее.</p>"
   ]
  },
  {
   "cell_type": "code",
   "execution_count": 38,
   "id": "b2c2d943",
   "metadata": {},
   "outputs": [],
   "source": [
    "#Creating collection these above function to simply our work:\n",
    "def collection(actual_data, predicts):\n",
    "    mse = mse_formula(actual_data, predicts)\n",
    "    rmse = rmse_formula(actual_data, predicts)\n",
    "    r2 = r2_formula(actual_data, predicts)\n",
    "    return mse, rmse, r2"
   ]
  },
  {
   "cell_type": "markdown",
   "id": "df812e6e",
   "metadata": {},
   "source": [
    "<p>Процедура градиентных функций?</p>"
   ]
  },
  {
   "cell_type": "code",
   "execution_count": 39,
   "id": "9d5cc782",
   "metadata": {},
   "outputs": [],
   "source": [
    "#A partial derivative of a function of multi variables is its derivative with respect to one of those variables, with the others held constant. It gives the rate of change of a function in the direction of a variable.\n",
    "#It can determine how changes in the direction of a variable influence the function\n",
    "\n",
    "def gradient_descent_step(X, actual_data, curr_weights = 0, curr_bias = 0, learning_rate = 0.001):\n",
    "    \n",
    "    predicted_data = np.dot(X, learning_rate * curr_weights) + curr_bias\n",
    "\n",
    "    new_weights = 0\n",
    "    new_bias = 0\n",
    "    \n",
    "    # Частные производные\n",
    "    partial_w = (1 / X.shape[0]) * (2 * np.dot(X.T, (predicted_data - actual_data)))\n",
    "    partial_b = (1 / X.shape[0]) * (2 * np.sum(predicted_data - actual_data))\n",
    "    \n",
    "    # Обновление весов и смещения\n",
    "    new_weights = curr_weights - learning_rate * partial_w\n",
    "    new_bias = curr_bias - learning_rate * partial_b\n",
    "    \n",
    "    return new_weights, new_bias\n",
    "\n",
    "def gradient_descent(X, y, learning_rate=0.001, n_iterations=300):\n",
    "    \n",
    "    weights = np.zeros(X.shape[1])\n",
    "    bias = 0\n",
    "    \n",
    "    for i in range(n_iterations):\n",
    "        weights, bias = gradient_descent_step(X, y, weights, bias, learning_rate)\n",
    "\n",
    "    return weights, bias"
   ]
  },
  {
   "cell_type": "code",
   "execution_count": 40,
   "id": "9201571d",
   "metadata": {},
   "outputs": [],
   "source": [
    "scaler = StandardScaler()\n",
    "X_train = scaler.fit_transform(X_train)\n",
    "X_test = scaler.transform(X_test)"
   ]
  },
  {
   "cell_type": "code",
   "execution_count": 41,
   "id": "00ebc641",
   "metadata": {},
   "outputs": [],
   "source": [
    "gd_weights, gd_bias = gradient_descent(X_train,y_train)\n",
    "gdp_train = np.dot(X_train, gd_weights) + gd_bias\n",
    "gdp_test = np.dot(X_test, gd_weights) + gd_bias"
   ]
  },
  {
   "cell_type": "code",
   "execution_count": 42,
   "id": "5fe8ce83",
   "metadata": {},
   "outputs": [
    {
     "data": {
      "text/html": [
       "<div>\n",
       "<style scoped>\n",
       "    .dataframe tbody tr th:only-of-type {\n",
       "        vertical-align: middle;\n",
       "    }\n",
       "\n",
       "    .dataframe tbody tr th {\n",
       "        vertical-align: top;\n",
       "    }\n",
       "\n",
       "    .dataframe thead th {\n",
       "        text-align: right;\n",
       "    }\n",
       "</style>\n",
       "<table border=\"1\" class=\"dataframe\">\n",
       "  <thead>\n",
       "    <tr style=\"text-align: right;\">\n",
       "      <th></th>\n",
       "      <th>Gradient_Descent_Train</th>\n",
       "      <th>Gradient_Descent_Test</th>\n",
       "    </tr>\n",
       "  </thead>\n",
       "  <tbody>\n",
       "    <tr>\n",
       "      <th>MSE</th>\n",
       "      <td>13.759077</td>\n",
       "      <td>15.792831</td>\n",
       "    </tr>\n",
       "    <tr>\n",
       "      <th>RMSE</th>\n",
       "      <td>3.709323</td>\n",
       "      <td>3.974020</td>\n",
       "    </tr>\n",
       "    <tr>\n",
       "      <th>R2</th>\n",
       "      <td>0.470740</td>\n",
       "      <td>0.362518</td>\n",
       "    </tr>\n",
       "  </tbody>\n",
       "</table>\n",
       "</div>"
      ],
      "text/plain": [
       "      Gradient_Descent_Train  Gradient_Descent_Test\n",
       "MSE                13.759077              15.792831\n",
       "RMSE                3.709323               3.974020\n",
       "R2                  0.470740               0.362518"
      ]
     },
     "execution_count": 42,
     "metadata": {},
     "output_type": "execute_result"
    }
   ],
   "source": [
    "data = {'Gradient_Descent_Train': collection(y_train, gdp_train),\n",
    "        'Gradient_Descent_Test': collection(y_test, gdp_test)}\n",
    "  \n",
    "# Creating table for our data\n",
    "df = pd.DataFrame(data, index=['MSE','RMSE','R2'])\n",
    "df"
   ]
  },
  {
   "cell_type": "markdown",
   "id": "750e69a9",
   "metadata": {},
   "source": [
    "### Создание стохастического градиентного спуска:"
   ]
  },
  {
   "cell_type": "code",
   "execution_count": 43,
   "id": "6a9fe24e",
   "metadata": {},
   "outputs": [
    {
     "data": {
      "text/html": [
       "<div>\n",
       "<style scoped>\n",
       "    .dataframe tbody tr th:only-of-type {\n",
       "        vertical-align: middle;\n",
       "    }\n",
       "\n",
       "    .dataframe tbody tr th {\n",
       "        vertical-align: top;\n",
       "    }\n",
       "\n",
       "    .dataframe thead th {\n",
       "        text-align: right;\n",
       "    }\n",
       "</style>\n",
       "<table border=\"1\" class=\"dataframe\">\n",
       "  <thead>\n",
       "    <tr style=\"text-align: right;\">\n",
       "      <th></th>\n",
       "      <th>Stochastic_GD_Train</th>\n",
       "      <th>Stochastic_GD_Test</th>\n",
       "    </tr>\n",
       "  </thead>\n",
       "  <tbody>\n",
       "    <tr>\n",
       "      <th>MSE</th>\n",
       "      <td>13.472310</td>\n",
       "      <td>15.359354</td>\n",
       "    </tr>\n",
       "    <tr>\n",
       "      <th>RMSE</th>\n",
       "      <td>3.670465</td>\n",
       "      <td>3.919101</td>\n",
       "    </tr>\n",
       "    <tr>\n",
       "      <th>R2</th>\n",
       "      <td>0.481771</td>\n",
       "      <td>0.380016</td>\n",
       "    </tr>\n",
       "  </tbody>\n",
       "</table>\n",
       "</div>"
      ],
      "text/plain": [
       "      Stochastic_GD_Train  Stochastic_GD_Test\n",
       "MSE             13.472310           15.359354\n",
       "RMSE             3.670465            3.919101\n",
       "R2               0.481771            0.380016"
      ]
     },
     "execution_count": 43,
     "metadata": {},
     "output_type": "execute_result"
    }
   ],
   "source": [
    "def stochastic_gd(X, y, learning_rate=0.001, n_iterations=300):\n",
    "    \n",
    "    weights = np.zeros(X.shape[1])\n",
    "    bias = 0\n",
    "    \n",
    "    for i in range(n_iterations):\n",
    "        indice = np.random.choice(X_train.shape[0], 1, replace=False)\n",
    "        shuffle_X = X[indice]\n",
    "        shuffle_y = y[indice]\n",
    "        weights, bias = gradient_descent_step(shuffle_X, shuffle_y, weights,\n",
    "                                      bias, learning_rate)\n",
    "    return weights, bias\n",
    "\n",
    "sgd_weights, sgd_bias = stochastic_gd(X = X_train, y = y_train,\n",
    "                                                    learning_rate = 0.001,\n",
    "                                                    n_iterations=300)\n",
    "sgd_predict_test = np.dot(X_test, sgd_weights) + sgd_bias\n",
    "sgd_predict_train = np.dot(X_train, sgd_weights) + sgd_bias\n",
    "\n",
    "data = {'Stochastic_GD_Train': collection(y_train, sgd_predict_train),\n",
    "        'Stochastic_GD_Test': collection(y_test, sgd_predict_test)}\n",
    "  \n",
    "# Creating table for our stohastic data\n",
    "df = pd.DataFrame(data, index=['MSE','RMSE','R2'])\n",
    "df"
   ]
  },
  {
   "cell_type": "markdown",
   "id": "b01395d0",
   "metadata": {},
   "source": [
    "### Создание мини-пакетного стохастического градиентного спуска:"
   ]
  },
  {
   "cell_type": "code",
   "execution_count": 44,
   "id": "43faa2fd",
   "metadata": {},
   "outputs": [
    {
     "data": {
      "text/html": [
       "<div>\n",
       "<style scoped>\n",
       "    .dataframe tbody tr th:only-of-type {\n",
       "        vertical-align: middle;\n",
       "    }\n",
       "\n",
       "    .dataframe tbody tr th {\n",
       "        vertical-align: top;\n",
       "    }\n",
       "\n",
       "    .dataframe thead th {\n",
       "        text-align: right;\n",
       "    }\n",
       "</style>\n",
       "<table border=\"1\" class=\"dataframe\">\n",
       "  <thead>\n",
       "    <tr style=\"text-align: right;\">\n",
       "      <th></th>\n",
       "      <th>MiniBatch_SGD_Train</th>\n",
       "      <th>MiniBatch_SGD_Test</th>\n",
       "    </tr>\n",
       "  </thead>\n",
       "  <tbody>\n",
       "    <tr>\n",
       "      <th>MSE</th>\n",
       "      <td>13.769649</td>\n",
       "      <td>15.805689</td>\n",
       "    </tr>\n",
       "    <tr>\n",
       "      <th>RMSE</th>\n",
       "      <td>3.710748</td>\n",
       "      <td>3.975637</td>\n",
       "    </tr>\n",
       "    <tr>\n",
       "      <th>R2</th>\n",
       "      <td>0.470334</td>\n",
       "      <td>0.361999</td>\n",
       "    </tr>\n",
       "  </tbody>\n",
       "</table>\n",
       "</div>"
      ],
      "text/plain": [
       "      MiniBatch_SGD_Train  MiniBatch_SGD_Test\n",
       "MSE             13.769649           15.805689\n",
       "RMSE             3.710748            3.975637\n",
       "R2               0.470334            0.361999"
      ]
     },
     "execution_count": 44,
     "metadata": {},
     "output_type": "execute_result"
    }
   ],
   "source": [
    "def minibatch_stochastic_gd(X, y, learning_rate=0.001, n_iterations=300, batch_size = 30):\n",
    "    \n",
    "    weights = np.zeros(X.shape[1])\n",
    "    bias = 0\n",
    "    \n",
    "    for i in range(n_iterations):\n",
    "        indice = np.random.choice(X_train.shape[0], batch_size, replace=False)\n",
    "        shuffle_X = X[indice]\n",
    "        shuffle_y = y[indice]\n",
    "        weights, bias = gradient_descent_step(shuffle_X, shuffle_y, weights, bias, learning_rate)\n",
    "\n",
    "    return weights, bias\n",
    "\n",
    "mb_sgd_weights, mb_sgd_bias = minibatch_stochastic_gd(X = X_train, y = y_train, learning_rate = 0.001, n_iterations=300)\n",
    "minibatch_predict_train = np.dot(X_train, mb_sgd_weights) + mb_sgd_bias\n",
    "minibatch_predicts_test = np.dot(X_test, mb_sgd_weights) + mb_sgd_bias\n",
    "\n",
    "data = {'MiniBatch_SGD_Train': collection(y_train, minibatch_predict_train),\n",
    "        'MiniBatch_SGD_Test': collection(y_test, minibatch_predicts_test)}\n",
    "  \n",
    "# Creating table for our stohastic data\n",
    "df = pd.DataFrame(data, index=['MSE','RMSE','R2'])\n",
    "df"
   ]
  },
  {
   "cell_type": "code",
   "execution_count": 45,
   "id": "b2c0231e",
   "metadata": {},
   "outputs": [
    {
     "data": {
      "text/html": [
       "<div>\n",
       "<style scoped>\n",
       "    .dataframe tbody tr th:only-of-type {\n",
       "        vertical-align: middle;\n",
       "    }\n",
       "\n",
       "    .dataframe tbody tr th {\n",
       "        vertical-align: top;\n",
       "    }\n",
       "\n",
       "    .dataframe thead th {\n",
       "        text-align: right;\n",
       "    }\n",
       "</style>\n",
       "<table border=\"1\" class=\"dataframe\">\n",
       "  <thead>\n",
       "    <tr style=\"text-align: right;\">\n",
       "      <th></th>\n",
       "      <th>Ridge Train</th>\n",
       "      <th>Ridge Test</th>\n",
       "    </tr>\n",
       "  </thead>\n",
       "  <tbody>\n",
       "    <tr>\n",
       "      <th>MSE</th>\n",
       "      <td>3.813378</td>\n",
       "      <td>3.944443</td>\n",
       "    </tr>\n",
       "    <tr>\n",
       "      <th>RMSE</th>\n",
       "      <td>1.952787</td>\n",
       "      <td>1.986062</td>\n",
       "    </tr>\n",
       "    <tr>\n",
       "      <th>R2</th>\n",
       "      <td>0.853314</td>\n",
       "      <td>0.840782</td>\n",
       "    </tr>\n",
       "  </tbody>\n",
       "</table>\n",
       "</div>"
      ],
      "text/plain": [
       "      Ridge Train  Ridge Test\n",
       "MSE      3.813378    3.944443\n",
       "RMSE     1.952787    1.986062\n",
       "R2       0.853314    0.840782"
      ]
     },
     "execution_count": 45,
     "metadata": {},
     "output_type": "execute_result"
    }
   ],
   "source": [
    "model = Ridge()  # выбранная модель\n",
    "\n",
    "model.fit(X_train, y_train)  # обучение модели на обучающей выборке\n",
    "\n",
    "y_train_pred = model.predict(X_train)  # использование модели для предсказания на обучающей\n",
    "y_test_pred = model.predict(X_test)  # или на тестовой выборке\n",
    "\n",
    "data = {'Ridge Train': collection(y_train, y_train_pred),\n",
    "        'Ridge Test': collection(y_test, y_test_pred)}\n",
    "  \n",
    "# Creating table for our stohastic data\n",
    "df = pd.DataFrame(data, index=['MSE','RMSE','R2'])\n",
    "df"
   ]
  },
  {
   "cell_type": "markdown",
   "id": "0aa4155b",
   "metadata": {},
   "source": [
    "### Training model using Cross validation:"
   ]
  },
  {
   "cell_type": "code",
   "execution_count": 46,
   "id": "eb88c84d",
   "metadata": {},
   "outputs": [
    {
     "name": "stdout",
     "output_type": "stream",
     "text": [
      "MSE cross validation train score: [11.82924782  8.3901298   2.25810626  2.60965043]\n"
     ]
    }
   ],
   "source": [
    "from sklearn.model_selection import cross_val_score\n",
    "# Результат для обучения наших данных в K-кратном размере с использованием MSE\n",
    "mse_train_score = cross_val_score(model, X_train, y_train, cv=4, scoring=\"neg_mean_squared_error\")\n",
    "print(\"MSE cross validation train score:\", (-mse_train_score))"
   ]
  },
  {
   "cell_type": "code",
   "execution_count": 47,
   "id": "d0833f2d",
   "metadata": {},
   "outputs": [
    {
     "name": "stdout",
     "output_type": "stream",
     "text": [
      "MSE train mean = 6.271783577547198\n",
      "MSE train STD =  4.027828953296325\n"
     ]
    }
   ],
   "source": [
    "# Результат для среднего значения перекрестной проверки в K-кратном\n",
    "mse_train_mean = np.mean(-mse_train_score)\n",
    "print(\"MSE train mean =\", mse_train_mean)\n",
    "mse_train_std = np.std(mse_train_score)\n",
    "print(\"MSE train STD = \", mse_train_std)"
   ]
  },
  {
   "cell_type": "code",
   "execution_count": 48,
   "id": "e7233d19",
   "metadata": {},
   "outputs": [],
   "source": [
    "#Здесь мы пытаемся спрогнозировать наши данные с помощью перекрестной проверки predict от MSE\n",
    "from sklearn.model_selection import cross_val_predict\n",
    "cross_test = cross_val_predict(model, X_test, y_test)"
   ]
  },
  {
   "cell_type": "code",
   "execution_count": 49,
   "id": "385e52b0",
   "metadata": {},
   "outputs": [
    {
     "name": "stdout",
     "output_type": "stream",
     "text": [
      "MSE cross validation test score: [15.4449163   4.91444837  2.60555922  1.86481378]\n"
     ]
    }
   ],
   "source": [
    "# Оценка перекрестной проверки тестовых данных\n",
    "mse_test_score = cross_val_score(model, X_test, y_test, cv=4, scoring=\"neg_mean_squared_error\")\n",
    "print(\"MSE cross validation test score:\", (-mse_test_score))"
   ]
  },
  {
   "cell_type": "code",
   "execution_count": 50,
   "id": "a46b4700",
   "metadata": {},
   "outputs": [
    {
     "name": "stdout",
     "output_type": "stream",
     "text": [
      "MSE test mean 6.207434417581316\n",
      "MSE test std: 5.450567480117829\n"
     ]
    }
   ],
   "source": [
    "#Среднее значение данных теста MSE\n",
    "mse_test_mean = np.mean(-mse_test_score)\n",
    "print(\"MSE test mean\", mse_test_mean)\n",
    "\n",
    "#Finding STD of test\n",
    "mse_test_std = np.std(mse_test_score)\n",
    "print(\"MSE test std:\",mse_test_std)"
   ]
  },
  {
   "cell_type": "code",
   "execution_count": 51,
   "id": "d939ff7f",
   "metadata": {},
   "outputs": [
    {
     "name": "stdout",
     "output_type": "stream",
     "text": [
      "RMSE train score:  [3.43936736 2.89657208 1.50269966 1.61544125]\n"
     ]
    }
   ],
   "source": [
    "# Нахождение перекрестной проверки для обученных данных с использованием RMSE (среднеквадратичная ошибка)\n",
    "rmse_train_score = cross_val_score(model, X_train, y_train, cv=4, scoring=\"neg_root_mean_squared_error\")\n",
    "print(\"RMSE train score: \", (-rmse_train_score))"
   ]
  },
  {
   "cell_type": "code",
   "execution_count": 52,
   "id": "98f80f58",
   "metadata": {},
   "outputs": [
    {
     "name": "stdout",
     "output_type": "stream",
     "text": [
      "RMSE train mean: 2.363520085443834\n",
      "RMSE train std: 0.8279833230511161\n"
     ]
    }
   ],
   "source": [
    "#Нахождение медианы для обученных данных\n",
    "rmse_train_mean = np.mean(-rmse_train_score)\n",
    "print(\"RMSE train mean:\", rmse_train_mean)\n",
    "rmse_train_std = np.std(-rmse_train_score)\n",
    "print(\"RMSE train std:\", rmse_train_std)"
   ]
  },
  {
   "cell_type": "code",
   "execution_count": 53,
   "id": "a8943de4",
   "metadata": {},
   "outputs": [],
   "source": [
    "#Прогнозирование проверки обученных данных\n",
    "rmse_cv_predict = cross_val_predict(model, X_test, y_test)"
   ]
  },
  {
   "cell_type": "code",
   "execution_count": 54,
   "id": "35b9eaf8",
   "metadata": {},
   "outputs": [
    {
     "name": "stdout",
     "output_type": "stream",
     "text": [
      "RMSE test score:  [3.93000207 2.21685551 1.61417447 1.36558185]\n"
     ]
    }
   ],
   "source": [
    "#Поиск ошибки перекрестной проверки для проверенных данных\n",
    "rmse_test_score = cross_val_score(model, X_test, y_test, cv=4, scoring=\"neg_root_mean_squared_error\")\n",
    "print(\"RMSE test score: \", (-rmse_test_score))"
   ]
  },
  {
   "cell_type": "code",
   "execution_count": 55,
   "id": "8508dfe4",
   "metadata": {},
   "outputs": [
    {
     "name": "stdout",
     "output_type": "stream",
     "text": [
      "RMSE test mean: 2.2816534761513827\n",
      "RMSE test std: 1.0007456381856612\n"
     ]
    }
   ],
   "source": [
    "#Нахождение среднего значения среднеквадратичной ошибки (RMSE) \n",
    "rmse_test_mean = np.mean(-rmse_test_score)\n",
    "print(\"RMSE test mean:\",rmse_test_mean)\n",
    "rmse_test_std = np.std(rmse_test_score)\n",
    "print(\"RMSE test std:\", rmse_test_std)"
   ]
  },
  {
   "cell_type": "code",
   "execution_count": 56,
   "id": "45f674c7",
   "metadata": {},
   "outputs": [
    {
     "name": "stdout",
     "output_type": "stream",
     "text": [
      "R^2 train score: [0.68017104 0.76653995 0.8493587  0.79358947]\n"
     ]
    }
   ],
   "source": [
    "#Выполнение той же операции для R ^ 2 (R-квадрат)\n",
    "r2_train_score = cross_val_score(model, X_train, y_train, cv=4, scoring=\"r2\")\n",
    "print(\"R^2 train score:\", r2_train_score)"
   ]
  },
  {
   "cell_type": "code",
   "execution_count": 57,
   "id": "6793a95e",
   "metadata": {},
   "outputs": [
    {
     "name": "stdout",
     "output_type": "stream",
     "text": [
      "R^2 train mean: 0.7724147909501667\n",
      "R^2 train std 0.06105767044436818\n"
     ]
    }
   ],
   "source": [
    "#Finding the median for R^2 (Trained data)\n",
    "r2_train_mean = np.mean(r2_train_score)\n",
    "print(\"R^2 train mean:\", r2_train_mean)\n",
    "r2_train_std = np.std(r2_train_score)\n",
    "print(\"R^2 train std\", r2_train_std)"
   ]
  },
  {
   "cell_type": "code",
   "execution_count": 58,
   "id": "28239274",
   "metadata": {},
   "outputs": [],
   "source": [
    "#Прогнозирование протестированных обученных данных R ^ 2\n",
    "r2_predict = cross_val_predict(model, X_test, y_test, cv=4)"
   ]
  },
  {
   "cell_type": "code",
   "execution_count": 59,
   "id": "ce682f1a",
   "metadata": {},
   "outputs": [
    {
     "name": "stdout",
     "output_type": "stream",
     "text": [
      "R^2 test score:  [0.69755491 0.65615813 0.68351697 0.67030537]\n"
     ]
    }
   ],
   "source": [
    "#Поиск ошибки перекрестной проверки для проверенных данных\n",
    "r2_test_score = cross_val_score(model, X_test, y_test, cv=4, scoring=\"r2\")\n",
    "print(\"R^2 test score: \", r2_test_score)"
   ]
  },
  {
   "cell_type": "code",
   "execution_count": 60,
   "id": "9cbcbfa3",
   "metadata": {},
   "outputs": [
    {
     "name": "stdout",
     "output_type": "stream",
     "text": [
      "R^2 test median: 0.6768838449174763\n",
      "R^2 test std: 0.015363289149027784\n"
     ]
    }
   ],
   "source": [
    "r2_test_mean = np.mean(r2_test_score)\n",
    "print(\"R^2 test median:\", r2_test_mean)\n",
    "r2_test_std = np.std(r2_test_score)\n",
    "print(\"R^2 test std:\", r2_test_std)"
   ]
  },
  {
   "cell_type": "code",
   "execution_count": 61,
   "id": "c650544b",
   "metadata": {},
   "outputs": [
    {
     "data": {
      "text/html": [
       "<div>\n",
       "<style scoped>\n",
       "    .dataframe tbody tr th:only-of-type {\n",
       "        vertical-align: middle;\n",
       "    }\n",
       "\n",
       "    .dataframe tbody tr th {\n",
       "        vertical-align: top;\n",
       "    }\n",
       "\n",
       "    .dataframe thead th {\n",
       "        text-align: right;\n",
       "    }\n",
       "</style>\n",
       "<table border=\"1\" class=\"dataframe\">\n",
       "  <thead>\n",
       "    <tr style=\"text-align: right;\">\n",
       "      <th></th>\n",
       "      <th>MSE_Train</th>\n",
       "      <th>MSE_Test</th>\n",
       "      <th>RMSE_Train</th>\n",
       "      <th>RMSE_Test</th>\n",
       "      <th>R^2_Train</th>\n",
       "      <th>R^2_Test</th>\n",
       "    </tr>\n",
       "  </thead>\n",
       "  <tbody>\n",
       "    <tr>\n",
       "      <th>Fold-1</th>\n",
       "      <td>11.829248</td>\n",
       "      <td>15.444916</td>\n",
       "      <td>-3.439367</td>\n",
       "      <td>-3.930002</td>\n",
       "      <td>-3.439367</td>\n",
       "      <td>0.697555</td>\n",
       "    </tr>\n",
       "    <tr>\n",
       "      <th>Fold-2</th>\n",
       "      <td>8.390130</td>\n",
       "      <td>4.914448</td>\n",
       "      <td>-2.896572</td>\n",
       "      <td>-2.216856</td>\n",
       "      <td>-2.896572</td>\n",
       "      <td>0.656158</td>\n",
       "    </tr>\n",
       "    <tr>\n",
       "      <th>Fold-3</th>\n",
       "      <td>2.258106</td>\n",
       "      <td>-2.605559</td>\n",
       "      <td>-1.502700</td>\n",
       "      <td>-1.614174</td>\n",
       "      <td>-1.502700</td>\n",
       "      <td>0.683517</td>\n",
       "    </tr>\n",
       "    <tr>\n",
       "      <th>Fold-4</th>\n",
       "      <td>2.609650</td>\n",
       "      <td>-1.864814</td>\n",
       "      <td>-1.615441</td>\n",
       "      <td>-1.365582</td>\n",
       "      <td>-1.615441</td>\n",
       "      <td>0.670305</td>\n",
       "    </tr>\n",
       "    <tr>\n",
       "      <th>E</th>\n",
       "      <td>-6.271784</td>\n",
       "      <td>6.271784</td>\n",
       "      <td>2.363520</td>\n",
       "      <td>2.281653</td>\n",
       "      <td>0.772415</td>\n",
       "      <td>0.676884</td>\n",
       "    </tr>\n",
       "    <tr>\n",
       "      <th>STD</th>\n",
       "      <td>-4.027829</td>\n",
       "      <td>5.450567</td>\n",
       "      <td>0.827983</td>\n",
       "      <td>1.000746</td>\n",
       "      <td>0.061058</td>\n",
       "      <td>0.015363</td>\n",
       "    </tr>\n",
       "  </tbody>\n",
       "</table>\n",
       "</div>"
      ],
      "text/plain": [
       "        MSE_Train   MSE_Test  RMSE_Train  RMSE_Test  R^2_Train  R^2_Test\n",
       "Fold-1  11.829248  15.444916   -3.439367  -3.930002  -3.439367  0.697555\n",
       "Fold-2   8.390130   4.914448   -2.896572  -2.216856  -2.896572  0.656158\n",
       "Fold-3   2.258106  -2.605559   -1.502700  -1.614174  -1.502700  0.683517\n",
       "Fold-4   2.609650  -1.864814   -1.615441  -1.365582  -1.615441  0.670305\n",
       "E       -6.271784   6.271784    2.363520   2.281653   0.772415  0.676884\n",
       "STD     -4.027829   5.450567    0.827983   1.000746   0.061058  0.015363"
      ]
     },
     "execution_count": 61,
     "metadata": {},
     "output_type": "execute_result"
    }
   ],
   "source": [
    "data = {'MSE_Train': [-mse_train_score[0], -mse_train_score[1], -mse_train_score[2], -mse_train_score[3], -mse_train_mean, -mse_train_std],\n",
    "        'MSE_Test': [-mse_test_score[0], -mse_test_score[1], mse_test_score[2], mse_test_score[3],mse_train_mean,mse_test_std],\n",
    "        'RMSE_Train': [rmse_train_score[0], rmse_train_score[1], rmse_train_score[2], rmse_train_score[3],rmse_train_mean,rmse_train_std],\n",
    "        'RMSE_Test': [rmse_test_score[0], rmse_test_score[1], rmse_test_score[2], rmse_test_score[3],rmse_test_mean,rmse_test_std],\n",
    "        'R^2_Train': [rmse_train_score[0], rmse_train_score[1], rmse_train_score[2], rmse_train_score[3],r2_train_mean,r2_train_std],\n",
    "        'R^2_Test': [r2_test_score[0], r2_test_score[1], r2_test_score[2], r2_test_score[3],r2_test_mean,r2_test_std],\n",
    "       }\n",
    "# Creates pandas DataFrame.\n",
    "df = pd.DataFrame(data, index=['Fold-1','Fold-2','Fold-3','Fold-4','E','STD'])\n",
    "# print the data\n",
    "df"
   ]
  },
  {
   "cell_type": "markdown",
   "id": "cf58b2ce",
   "metadata": {},
   "source": [
    "### RFE\n",
    "#### Перед обучением данных мы выберем лучшую функцию из нашего набора данных."
   ]
  },
  {
   "cell_type": "code",
   "execution_count": 62,
   "id": "77a34561",
   "metadata": {},
   "outputs": [
    {
     "name": "stdout",
     "output_type": "stream",
     "text": [
      "1 Year\n",
      "1 Selling_Price\n",
      "1 Present_Price\n",
      "1 Kms_Driven\n",
      "1 Current_Year\n",
      "2 Owner\n"
     ]
    }
   ],
   "source": [
    "from sklearn.feature_selection import RFE\n",
    "Lmodel = LinearRegression()\n",
    "rfe = RFE(Lmodel, n_features_to_select=5)\n",
    "rfe = rfe.fit(X_train, y_train)\n",
    "from operator import itemgetter\n",
    "features = dataset.columns.to_list()\n",
    "for x, y in (sorted(zip(rfe.ranking_ , features), key=itemgetter(0))):\n",
    "    print(x, y)"
   ]
  },
  {
   "cell_type": "code",
   "execution_count": 63,
   "id": "e6b4d78b",
   "metadata": {},
   "outputs": [],
   "source": [
    "X = dataset.drop(['Selling_Price'], axis=1).values\n",
    "y = dataset['Selling_Price'].values\n",
    "X_train, X_test, y_train, y_test = train_test_split(X,y, test_size=0.2, random_state=13)"
   ]
  },
  {
   "cell_type": "code",
   "execution_count": 64,
   "id": "3ce15848",
   "metadata": {},
   "outputs": [],
   "source": [
    "scaler = StandardScaler ()\n",
    "X_train = scaler.fit_transform(X_train)\n",
    "X_test = scaler.transform(X_test)"
   ]
  },
  {
   "cell_type": "code",
   "execution_count": 65,
   "id": "b26737d4",
   "metadata": {},
   "outputs": [],
   "source": [
    "gd_weights, gd_bias = gradient_descent(X_train,y_train)\n",
    "gd_predict_train = np.dot(X_train, gd_weights) + gd_bias\n",
    "gd_predict_test = np.dot(X_test, gd_weights) + gd_bias"
   ]
  },
  {
   "cell_type": "code",
   "execution_count": 66,
   "id": "d0c9c3f2",
   "metadata": {},
   "outputs": [
    {
     "data": {
      "text/html": [
       "<div>\n",
       "<style scoped>\n",
       "    .dataframe tbody tr th:only-of-type {\n",
       "        vertical-align: middle;\n",
       "    }\n",
       "\n",
       "    .dataframe tbody tr th {\n",
       "        vertical-align: top;\n",
       "    }\n",
       "\n",
       "    .dataframe thead th {\n",
       "        text-align: right;\n",
       "    }\n",
       "</style>\n",
       "<table border=\"1\" class=\"dataframe\">\n",
       "  <thead>\n",
       "    <tr style=\"text-align: right;\">\n",
       "      <th></th>\n",
       "      <th>Gradient_Descent_Train</th>\n",
       "      <th>Gradient_Descent_Test</th>\n",
       "    </tr>\n",
       "  </thead>\n",
       "  <tbody>\n",
       "    <tr>\n",
       "      <th>MSE</th>\n",
       "      <td>13.759077</td>\n",
       "      <td>15.792831</td>\n",
       "    </tr>\n",
       "    <tr>\n",
       "      <th>RMSE</th>\n",
       "      <td>3.709323</td>\n",
       "      <td>3.974020</td>\n",
       "    </tr>\n",
       "    <tr>\n",
       "      <th>R2</th>\n",
       "      <td>0.470740</td>\n",
       "      <td>0.362518</td>\n",
       "    </tr>\n",
       "  </tbody>\n",
       "</table>\n",
       "</div>"
      ],
      "text/plain": [
       "      Gradient_Descent_Train  Gradient_Descent_Test\n",
       "MSE                13.759077              15.792831\n",
       "RMSE                3.709323               3.974020\n",
       "R2                  0.470740               0.362518"
      ]
     },
     "execution_count": 66,
     "metadata": {},
     "output_type": "execute_result"
    }
   ],
   "source": [
    "data = {'Gradient_Descent_Train': collection(y_train, gd_predict_train),\n",
    "        'Gradient_Descent_Test': collection(y_test, gd_predict_test)}\n",
    "  \n",
    "# Creating table for our stohastic data\n",
    "df = pd.DataFrame(data, index=['MSE','RMSE','R2'])\n",
    "df"
   ]
  },
  {
   "cell_type": "code",
   "execution_count": 67,
   "id": "82a5253d",
   "metadata": {},
   "outputs": [
    {
     "data": {
      "text/html": [
       "<div>\n",
       "<style scoped>\n",
       "    .dataframe tbody tr th:only-of-type {\n",
       "        vertical-align: middle;\n",
       "    }\n",
       "\n",
       "    .dataframe tbody tr th {\n",
       "        vertical-align: top;\n",
       "    }\n",
       "\n",
       "    .dataframe thead th {\n",
       "        text-align: right;\n",
       "    }\n",
       "</style>\n",
       "<table border=\"1\" class=\"dataframe\">\n",
       "  <thead>\n",
       "    <tr style=\"text-align: right;\">\n",
       "      <th></th>\n",
       "      <th>Ridge-rain</th>\n",
       "      <th>Ridge-Test</th>\n",
       "    </tr>\n",
       "  </thead>\n",
       "  <tbody>\n",
       "    <tr>\n",
       "      <th>0</th>\n",
       "      <td>3.813378</td>\n",
       "      <td>3.944443</td>\n",
       "    </tr>\n",
       "    <tr>\n",
       "      <th>1</th>\n",
       "      <td>1.952787</td>\n",
       "      <td>1.986062</td>\n",
       "    </tr>\n",
       "    <tr>\n",
       "      <th>2</th>\n",
       "      <td>0.853314</td>\n",
       "      <td>0.840782</td>\n",
       "    </tr>\n",
       "  </tbody>\n",
       "</table>\n",
       "</div>"
      ],
      "text/plain": [
       "   Ridge-rain  Ridge-Test\n",
       "0    3.813378    3.944443\n",
       "1    1.952787    1.986062\n",
       "2    0.853314    0.840782"
      ]
     },
     "execution_count": 67,
     "metadata": {},
     "output_type": "execute_result"
    }
   ],
   "source": [
    "model = Ridge()  # выбранная модель\n",
    "\n",
    "model.fit(X_train, y_train)\n",
    "\n",
    "y_train_pred = model.predict(X_train)\n",
    "y_test_pred = model.predict(X_test)\n",
    "\n",
    "data = {'Ridge-rain': collection(y_train, y_train_pred),\n",
    "        'Ridge-Test': collection(y_test, y_test_pred)}\n",
    "  \n",
    "# Create DataFrame\n",
    "df = pd.DataFrame(data)\n",
    "  \n",
    "# Print the output.\n",
    "df"
   ]
  },
  {
   "cell_type": "code",
   "execution_count": 68,
   "id": "019a0519",
   "metadata": {},
   "outputs": [
    {
     "data": {
      "text/plain": [
       "GridSearchCV(cv=5, estimator=Ridge(),\n",
       "             param_grid=[{'alpha': array([1.00000000e-32, 1.48735211e-31, 2.21221629e-30, 3.29034456e-29,\n",
       "       4.89390092e-28, 7.27895384e-27, 1.08263673e-25, 1.61026203e-24,\n",
       "       2.39502662e-23, 3.56224789e-22, 5.29831691e-21, 7.88046282e-20,\n",
       "       1.17210230e-18, 1.74332882e-17, 2.59294380e-16, 3.85662042e-15,\n",
       "       5.73615251e-14, 8.53167852e-13, 1.26896100e-11, 1.88739182e-10,\n",
       "       2.80721620e-09, 4.17531894e-08, 6.21016942e-07, 9.23670857e-06,\n",
       "       1.37382380e-04, 2.04335972e-03, 3.03919538e-02, 4.52035366e-01,\n",
       "       6.72335754e+00, 1.00000000e+02])}],\n",
       "             scoring='neg_root_mean_squared_error')"
      ]
     },
     "execution_count": 68,
     "metadata": {},
     "output_type": "execute_result"
    }
   ],
   "source": [
    "from sklearn.model_selection import GridSearchCV\n",
    "\n",
    "alpha_grid = np.logspace(-32,2,30)\n",
    "searcher = GridSearchCV(Ridge(), [{\"alpha\": alpha_grid}], scoring=\"neg_root_mean_squared_error\", cv=5)\n",
    "searcher.fit(X_train, y_train)\n",
    "\n",
    "# plt.plot(alpha_grid, -searcher.cv_results_[\"mean_test_score\"])\n",
    "# plt.xscale(\"log\")\n",
    "# plt.xlabel(\"alpha\")\n",
    "# plt.ylabel(\"CV score\")"
   ]
  },
  {
   "cell_type": "code",
   "execution_count": 69,
   "id": "b5d47a52",
   "metadata": {},
   "outputs": [
    {
     "name": "stdout",
     "output_type": "stream",
     "text": [
      "Best alpha = 6.7234\n"
     ]
    }
   ],
   "source": [
    "best_alpha = searcher.best_params_[\"alpha\"]\n",
    "print(\"Best alpha = %.4f\" % best_alpha)"
   ]
  }
 ],
 "metadata": {
  "kernelspec": {
   "display_name": "Python 3 (ipykernel)",
   "language": "python",
   "name": "python3"
  },
  "language_info": {
   "codemirror_mode": {
    "name": "ipython",
    "version": 3
   },
   "file_extension": ".py",
   "mimetype": "text/x-python",
   "name": "python",
   "nbconvert_exporter": "python",
   "pygments_lexer": "ipython3",
   "version": "3.9.12"
  }
 },
 "nbformat": 4,
 "nbformat_minor": 5
}
